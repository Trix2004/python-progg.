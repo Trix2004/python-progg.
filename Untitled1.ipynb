{
  "nbformat": 4,
  "nbformat_minor": 0,
  "metadata": {
    "colab": {
      "provenance": [],
      "authorship_tag": "ABX9TyNYnwPJIhiG/hguoRudVQB6",
      "include_colab_link": true
    },
    "kernelspec": {
      "name": "python3",
      "display_name": "Python 3"
    },
    "language_info": {
      "name": "python"
    }
  },
  "cells": [
    {
      "cell_type": "markdown",
      "metadata": {
        "id": "view-in-github",
        "colab_type": "text"
      },
      "source": [
        "<a href=\"https://colab.research.google.com/github/Trix2004/python-progg./blob/main/Untitled1.ipynb\" target=\"_parent\"><img src=\"https://colab.research.google.com/assets/colab-badge.svg\" alt=\"Open In Colab\"/></a>"
      ]
    },
    {
      "cell_type": "code",
      "execution_count": null,
      "metadata": {
        "id": "zrhNOHa4uatu",
        "colab": {
          "base_uri": "https://localhost:8080/"
        },
        "outputId": "bfbb9e52-cc23-46bb-e312-8f5e070cfb96"
      },
      "outputs": [
        {
          "output_type": "stream",
          "name": "stdout",
          "text": [
            "JADAVPUR\n"
          ]
        }
      ],
      "source": [
        "print('JADAVPUR')"
      ]
    },
    {
      "cell_type": "code",
      "source": [],
      "metadata": {
        "id": "9zJKW1TlvdjT"
      },
      "execution_count": null,
      "outputs": []
    },
    {
      "cell_type": "markdown",
      "source": [
        "**Python Class for AI & DS**\n",
        "\n",
        "*YOAIMO* \n",
        "\n",
        "*YO*"
      ],
      "metadata": {
        "id": "7I6Fx0oMvvPg"
      }
    },
    {
      "cell_type": "markdown",
      "source": [
        "$X^2+X+2=0$\n",
        "$E^X=\\sum_{I=0}^\\infty\\frac{1}{i!}x^i$"
      ],
      "metadata": {
        "id": "cJPemvoWwk8n"
      }
    }
  ]
}